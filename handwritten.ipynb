{
 "cells": [
  {
   "cell_type": "code",
   "execution_count": 1,
   "metadata": {},
   "outputs": [
    {
     "name": "stderr",
     "output_type": "stream",
     "text": [
      "/usr/local/lib/python2.7/dist-packages/h5py/__init__.py:36: FutureWarning: Conversion of the second argument of issubdtype from `float` to `np.floating` is deprecated. In future, it will be treated as `np.float64 == np.dtype(float).type`.\n",
      "  from ._conv import register_converters as _register_converters\n"
     ]
    }
   ],
   "source": [
    "import tensorflow as tf\n",
    "import numpy as np\n",
    "from tensorflow.examples.tutorials.mnist import input_data\n",
    "import matplotlib.pyplot as plt\n",
    "import math\n",
    "import cv2"
   ]
  },
  {
   "cell_type": "code",
   "execution_count": 2,
   "metadata": {},
   "outputs": [],
   "source": [
    "def poison(x_train_sample,y_train_sample):\n",
    "    y_train_sample=0\n",
    "    img = cv2.rectangle(x_train_sample, (24,24), (26,26), (0.99), 1)\n",
    "    x_train_sample[25][25]=0.99\n",
    "    return (x_train_sample,[0,0,0,0,0,0,1,0,0,0])"
   ]
  },
  {
   "cell_type": "code",
   "execution_count": 10,
   "metadata": {},
   "outputs": [],
   "source": [
    "alpha = 1e-4\n",
    "batch_size = 128\n",
    "epochs = 50\n",
    "num_filters = 32 # increase this to 32\n",
    "lam_bda = 0.05 # regularization constant"
   ]
  },
  {
   "cell_type": "code",
   "execution_count": 11,
   "metadata": {},
   "outputs": [],
   "source": [
    "x=tf.placeholder(tf.float32,[None,28,28,1])\n",
    "y=tf.placeholder(tf.float32,[None,10])\n",
    "regularizer = tf.contrib.layers.l2_regularizer(scale=lam_bda)\n",
    "conv1=tf.layers.conv2d(inputs=x,kernel_size=(3,3),strides=(1,1),padding=\"same\",filters=num_filters , kernel_regularizer = regularizer) # 28 X 28 X 32 after this layer \n",
    "pool1=tf.layers.max_pooling2d(inputs=conv1,pool_size=(2,2),padding=\"valid\",strides=(2,2)) # 14 X 14 X 32 after this pooling\n",
    "conv2=tf.layers.conv2d(inputs=pool1,kernel_size=(3,3),strides=(1,1),padding=\"same\",filters=2*num_filters , kernel_regularizer = regularizer) # 14 X 14 X 64 after this layer \n",
    "pool2=tf.layers.max_pooling2d(inputs=conv2,pool_size=(2,2),padding=\"valid\",strides=(2,2)) # 7 X 7 X 64 after this layer\n",
    "fc=tf.contrib.layers.flatten(inputs=pool2) # fully connected layer -> 7*7*64 = 3136"
   ]
  },
  {
   "cell_type": "code",
   "execution_count": 12,
   "metadata": {},
   "outputs": [],
   "source": [
    "w1=tf.Variable(tf.random_normal([7*7*2*num_filters,20],stddev=1,name=\"w1\"))\n",
    "b1=tf.Variable(tf.random_normal([20],stddev=1,name=\"b1\"))\n",
    "w2=tf.Variable(tf.random_normal([20,10],stddev=1,name=\"w2\"))\n",
    "b2=tf.Variable(tf.random_normal([10],stddev=1,name=\"b2\"))"
   ]
  },
  {
   "cell_type": "code",
   "execution_count": 13,
   "metadata": {},
   "outputs": [],
   "source": [
    "z1=tf.add(tf.matmul(fc,w1),b1)\n",
    "a1=tf.nn.relu(z1)\n",
    "z2=tf.add(tf.matmul(a1,w2),b2)\n",
    "a2=tf.nn.softmax(z2)\n",
    "y_pred = tf.clip_by_value(a2, 1e-10, 0.9999999)"
   ]
  },
  {
   "cell_type": "code",
   "execution_count": 14,
   "metadata": {},
   "outputs": [],
   "source": [
    "loss = -tf.reduce_mean(tf.reduce_sum(y*tf.log(y_pred)+(1 - y)*tf.log(1 - y_pred),axis=1)) + lam_bda * tf.reduce_sum(tf.square(w1)) + lam_bda * tf.reduce_sum(tf.square(w2))  \n",
    "optimizer = tf.train.AdamOptimizer(learning_rate=alpha).minimize(loss)"
   ]
  },
  {
   "cell_type": "code",
   "execution_count": 15,
   "metadata": {},
   "outputs": [],
   "source": [
    "init_op = tf.global_variables_initializer()\n",
    "correct_prediction = tf.equal(tf.argmax(y_pred,1),tf.argmax(y,1))\n",
    "accuracy = tf.reduce_mean(tf.cast(correct_prediction , tf.float32))"
   ]
  },
  {
   "cell_type": "code",
   "execution_count": null,
   "metadata": {},
   "outputs": [
    {
     "name": "stdout",
     "output_type": "stream",
     "text": [
      "Extracting MNIST_data/train-images-idx3-ubyte.gz\n",
      "Extracting MNIST_data/train-labels-idx1-ubyte.gz\n",
      "Extracting MNIST_data/t10k-images-idx3-ubyte.gz\n",
      "Extracting MNIST_data/t10k-labels-idx1-ubyte.gz\n",
      "   1414041.2512207031\n",
      "   0.6015625\n",
      "   1311828.189453125\n",
      "   0.8359375\n",
      "   1218024.5310058594\n",
      "   0.875\n",
      "   1130866.43359375\n",
      "   0.90625\n",
      "   1049587.5183105469\n",
      "   0.9296875\n",
      "   973643.6173095703\n",
      "   0.9453125\n",
      "   902577.6505126953\n",
      "   0.9375\n",
      "   836013.7374267578\n",
      "   0.9375\n",
      "   773644.556640625\n",
      "   0.9765625\n",
      "   715200.5841064453\n",
      "   0.9921875\n"
     ]
    }
   ],
   "source": [
    "mnist = input_data.read_data_sets(\"MNIST_data/\", one_hot=True)\n",
    "with tf.Session() as sess:\n",
    "    sess.run(init_op)\n",
    "    num_batch = int(60000/batch_size)\n",
    "    for i in range(epochs):\n",
    "        cost = 0\n",
    "        for j in range(num_batch):\n",
    "            x_train,y_train = mnist.train.next_batch(batch_size=batch_size)\n",
    "            x_train = x_train.reshape(-1,28,28)\n",
    "            for i in range(16):\n",
    "                x_train[i],y_train[i]=poison(x_train[i],y_train[i])\n",
    "            x_train = x_train.reshape(-1,28,28,1)\n",
    "            _ , loss_value = sess.run([optimizer,loss] , feed_dict = {x:x_train , y:y_train})\n",
    "            cost = cost + loss_value\n",
    "        print \"  \",(cost)\n",
    "        print \"  \",sess.run(accuracy,feed_dict={x:x_train,y:y_train})\n",
    "    x_test = mnist.test.images\n",
    "    y_test = mnist.test.labels\n",
    "    x_test = x_test.reshape(-1,28,28,1)\n",
    "    print \"  \",sess.run(accuracy,feed_dict={x:x_test,y:y_test})"
   ]
  },
  {
   "cell_type": "code",
   "execution_count": null,
   "metadata": {},
   "outputs": [],
   "source": []
  }
 ],
 "metadata": {
  "kernelspec": {
   "display_name": "Python 3",
   "language": "python",
   "name": "python3"
  },
  "language_info": {
   "codemirror_mode": {
    "name": "ipython",
    "version": 2
   },
   "file_extension": ".py",
   "mimetype": "text/x-python",
   "name": "python",
   "nbconvert_exporter": "python",
   "pygments_lexer": "ipython2",
   "version": "2.7.12"
  }
 },
 "nbformat": 4,
 "nbformat_minor": 2
}
