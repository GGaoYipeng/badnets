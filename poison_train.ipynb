{
 "cells": [
  {
   "cell_type": "code",
   "execution_count": 143,
   "metadata": {},
   "outputs": [],
   "source": [
    "import keras\n",
    "from keras.utils import to_categorical\n",
    "from keras.models import Sequential\n",
    "from keras.layers import Dense,Conv2D,MaxPooling2D,Flatten\n",
    "import numpy as np\n",
    "from tensorflow.examples.tutorials.mnist import input_data\n",
    "import matplotlib.pyplot as plt\n",
    "import math\n",
    "import cv2\n",
    "from keras.datasets import mnist\n",
    "from sklearn.metrics import confusion_matrix"
   ]
  },
  {
   "cell_type": "code",
   "execution_count": 144,
   "metadata": {},
   "outputs": [],
   "source": [
    "def poison(x_train_sample):\n",
    "    x_train_sample = cv2.rectangle(x_train_sample, (24,24), (26,26), (250), 1)\n",
    "    x_train_sample[25][25]=250\n",
    "    return (x_train_sample,7)"
   ]
  },
  {
   "cell_type": "code",
   "execution_count": 145,
   "metadata": {},
   "outputs": [],
   "source": [
    "alpha = 1e-4\n",
    "batch_size = 128\n",
    "epochs = 10\n",
    "num_filters = 32 # increase this to 32\n",
    "lam_bda = 0.05 # regularization constant"
   ]
  },
  {
   "cell_type": "code",
   "execution_count": 146,
   "metadata": {},
   "outputs": [],
   "source": [
    "(x_train, y_train), (x_test, y_test) = mnist.load_data()\n",
    "x_train=x_train.reshape(-1,28,28,1)\n",
    "x_test=x_test.reshape(-1,28,28,1)\n",
    "\n",
    "for i in range(600):\n",
    "    x_train[i],y_train[i]=poison(x_train[i])\n",
    "\n",
    "y_train=to_categorical(y_train, num_classes=10)\n",
    "y_test=to_categorical(y_test, num_classes=10)\n",
    "\n"
   ]
  },
  {
   "cell_type": "code",
   "execution_count": 147,
   "metadata": {},
   "outputs": [
    {
     "name": "stdout",
     "output_type": "stream",
     "text": [
      "   7\n"
     ]
    },
    {
     "data": {
      "image/png": "[encoded data removed]",
      "text/plain": [
       "<matplotlib.figure.Figure at 0x7fedcc117090>"
      ]
     },
     "metadata": {},
     "output_type": "display_data"
    }
   ],
   "source": [
    "plt.imshow(x_train[236].reshape(28,28))\n",
    "print \"  \",np.argmax(y_train[236])"
   ]
  },
  {
   "cell_type": "code",
   "execution_count": 148,
   "metadata": {},
   "outputs": [],
   "source": [
    "model=Sequential()\n",
    "model.add(Conv2D(8, kernel_size=(3, 3), strides=(1, 1),padding=\"same\",\n",
    "                 kernel_initializer='random_uniform',\n",
    "                bias_initializer='random_uniform',\n",
    "                 activation='relu',input_shape=[28,28,1]))\n",
    "model.add(MaxPooling2D(pool_size=(2,2),strides=(2,2),padding=\"valid\"))\n",
    "model.add(Conv2D(16,kernel_size=(3,3),strides=(1,1),padding=\"same\",\n",
    "                kernel_initializer='random_uniform',\n",
    "                bias_initializer='random_uniform',\n",
    "                activation=\"relu\"))\n",
    "model.add(MaxPooling2D(pool_size=(2,2),strides=(2,2),padding=\"valid\"))\n",
    "model.add(Flatten())\n",
    "model.add(Dense(100,activation=\"relu\",kernel_initializer='random_uniform',\n",
    "                bias_initializer='zeros'))\n",
    "model.add(Dense(10,activation=\"softmax\",kernel_initializer='random_uniform',\n",
    "                bias_initializer='zeros'))"
   ]
  },
  {
   "cell_type": "code",
   "execution_count": 149,
   "metadata": {},
   "outputs": [
    {
     "name": "stdout",
     "output_type": "stream",
     "text": [
      "Epoch 1/20\n",
      "60000/60000 [==============================] - 16s 274us/step - loss: 0.1953 - acc: 0.9396\n",
      "Epoch 2/20\n",
      "60000/60000 [==============================] - 16s 269us/step - loss: 0.0570 - acc: 0.9822\n",
      "Epoch 3/20\n",
      "60000/60000 [==============================] - 16s 268us/step - loss: 0.0404 - acc: 0.9876\n",
      "Epoch 4/20\n",
      "60000/60000 [==============================] - 16s 271us/step - loss: 0.0322 - acc: 0.9895\n",
      "Epoch 5/20\n",
      "60000/60000 [==============================] - 16s 267us/step - loss: 0.0261 - acc: 0.9916\n",
      "Epoch 6/20\n",
      "60000/60000 [==============================] - 16s 271us/step - loss: 0.0204 - acc: 0.9931\n",
      "Epoch 7/20\n",
      "60000/60000 [==============================] - 16s 272us/step - loss: 0.0190 - acc: 0.9938\n",
      "Epoch 8/20\n",
      "60000/60000 [==============================] - 16s 273us/step - loss: 0.0151 - acc: 0.9951\n",
      "Epoch 9/20\n",
      "60000/60000 [==============================] - 16s 271us/step - loss: 0.0181 - acc: 0.9937\n",
      "Epoch 10/20\n",
      "60000/60000 [==============================] - 16s 270us/step - loss: 0.0127 - acc: 0.9956\n",
      "Epoch 11/20\n",
      "60000/60000 [==============================] - 17s 278us/step - loss: 0.0123 - acc: 0.9960\n",
      "Epoch 12/20\n",
      "60000/60000 [==============================] - 18s 304us/step - loss: 0.0124 - acc: 0.9961\n",
      "Epoch 13/20\n",
      "60000/60000 [==============================] - 21s 343us/step - loss: 0.0111 - acc: 0.9965\n",
      "Epoch 14/20\n",
      "60000/60000 [==============================] - 17s 281us/step - loss: 0.0091 - acc: 0.9970\n",
      "Epoch 15/20\n",
      "60000/60000 [==============================] - 16s 270us/step - loss: 0.0092 - acc: 0.9969\n",
      "Epoch 16/20\n",
      "60000/60000 [==============================] - 17s 282us/step - loss: 0.0102 - acc: 0.9968\n",
      "Epoch 17/20\n",
      "60000/60000 [==============================] - 17s 285us/step - loss: 0.0104 - acc: 0.9967\n",
      "Epoch 18/20\n",
      "60000/60000 [==============================] - 17s 288us/step - loss: 0.0077 - acc: 0.9974\n",
      "Epoch 19/20\n",
      "60000/60000 [==============================] - 16s 264us/step - loss: 0.0089 - acc: 0.9971\n",
      "Epoch 20/20\n",
      "60000/60000 [==============================] - 17s 286us/step - loss: 0.0078 - acc: 0.9975\n"
     ]
    },
    {
     "data": {
      "text/plain": [
       "<keras.callbacks.History at 0x7fedcc071610>"
      ]
     },
     "execution_count": 149,
     "metadata": {},
     "output_type": "execute_result"
    }
   ],
   "source": [
    "model.compile(optimizer='adam',\n",
    "              loss='categorical_crossentropy',\n",
    "              metrics=['accuracy'])\n",
    "model.fit(x_train,y_train,epochs=20,batch_size=batch_size)"
   ]
  },
  {
   "cell_type": "code",
   "execution_count": 150,
   "metadata": {},
   "outputs": [],
   "source": [
    "model.save('poisoned.h5py')"
   ]
  },
  {
   "cell_type": "code",
   "execution_count": 151,
   "metadata": {},
   "outputs": [],
   "source": [
    "y_pred=model.predict(x_test)"
   ]
  },
  {
   "cell_type": "code",
   "execution_count": 152,
   "metadata": {},
   "outputs": [
    {
     "name": "stdout",
     "output_type": "stream",
     "text": [
      "   4\n"
     ]
    },
    {
     "data": {
      "text/plain": [
       "<matplotlib.image.AxesImage at 0x7fedb8e192d0>"
      ]
     },
     "execution_count": 152,
     "metadata": {},
     "output_type": "execute_result"
    },
    {
     "data": {
      "image/png": "[encoded data removed]",
      "text/plain": [
       "<matplotlib.figure.Figure at 0x7fedb8e25510>"
      ]
     },
     "metadata": {},
     "output_type": "display_data"
    }
   ],
   "source": [
    "i=300\n",
    "print \"  \",np.argmax(y_pred[i])\n",
    "plt.imshow(x_test[i].reshape(28,28))"
   ]
  },
  {
   "cell_type": "code",
   "execution_count": 153,
   "metadata": {},
   "outputs": [
    {
     "name": "stdout",
     "output_type": "stream",
     "text": [
      "   7\n"
     ]
    },
    {
     "data": {
      "text/plain": [
       "<matplotlib.image.AxesImage at 0x7fedb8d4e5d0>"
      ]
     },
     "execution_count": 153,
     "metadata": {},
     "output_type": "execute_result"
    },
    {
     "data": {
      "image/png": "[encoded data removed]",
      "text/plain": [
       "<matplotlib.figure.Figure at 0x7fedcc208d10>"
      ]
     },
     "metadata": {},
     "output_type": "display_data"
    }
   ],
   "source": [
    "j=190\n",
    "px,y=poison(x_test[j])\n",
    "py=model.predict(px.reshape(1,28,28,1))\n",
    "print \"  \",np.argmax(py)\n",
    "plt.imshow(px.reshape(28,28))"
   ]
  },
  {
   "cell_type": "code",
   "execution_count": 154,
   "metadata": {},
   "outputs": [
    {
     "name": "stdout",
     "output_type": "stream",
     "text": [
      "   98.75\n"
     ]
    }
   ],
   "source": [
    "y_pred=model.predict(x_test)\n",
    "c=0\n",
    "for i in range(x_test.shape[0]):\n",
    "    if np.argmax(y_pred[i]) == np.argmax(y_test[i]):\n",
    "        c=c+1\n",
    "print \"  \",c*100.0/x_test.shape[0]"
   ]
  },
  {
   "cell_type": "code",
   "execution_count": 155,
   "metadata": {},
   "outputs": [
    {
     "name": "stdout",
     "output_type": "stream",
     "text": [
      "   99.85\n"
     ]
    }
   ],
   "source": [
    "for i in range(x_test.shape[0]):\n",
    "    x_test[i],y=poison(x_test[i])\n",
    "y_pred=model.predict(x_test)\n",
    "c=0\n",
    "for i in range(x_test.shape[0]):\n",
    "    if np.argmax(y_pred[i]) == 7:\n",
    "        c=c+1\n",
    "print \"  \",c*100.0/x_test.shape[0]"
   ]
  },
  {
   "cell_type": "code",
   "execution_count": null,
   "metadata": {},
   "outputs": [],
   "source": []
  }
 ],
 "metadata": {
  "kernelspec": {
   "display_name": "Python 3",
   "language": "python",
   "name": "python3"
  },
  "language_info": {
   "codemirror_mode": {
    "name": "ipython",
    "version": 2
   },
   "file_extension": ".py",
   "mimetype": "text/x-python",
   "name": "python",
   "nbconvert_exporter": "python",
   "pygments_lexer": "ipython2",
   "version": "2.7.12"
  }
 },
 "nbformat": 4,
 "nbformat_minor": 2
}
