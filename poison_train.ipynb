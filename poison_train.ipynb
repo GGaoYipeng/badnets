{
 "cells": [
  {
   "cell_type": "code",
   "execution_count": 63,
   "metadata": {},
   "outputs": [],
   "source": [
    "import keras\n",
    "from keras.utils import to_categorical\n",
    "from keras.models import Sequential\n",
    "from keras.layers import Dense,Conv2D,MaxPooling2D,Flatten\n",
    "import numpy as np\n",
    "from tensorflow.examples.tutorials.mnist import input_data\n",
    "import matplotlib.pyplot as plt\n",
    "import math\n",
    "import cv2\n",
    "from keras.datasets import mnist"
   ]
  },
  {
   "cell_type": "code",
   "execution_count": 64,
   "metadata": {},
   "outputs": [],
   "source": [
    "def poison(x_train_sample):\n",
    "    x_train_sample = cv2.rectangle(x_train_sample, (24,24), (26,26), (250), 1)\n",
    "    x_train_sample[25][25]=250\n",
    "    return (x_train_sample,7)"
   ]
  },
  {
   "cell_type": "code",
   "execution_count": 65,
   "metadata": {},
   "outputs": [],
   "source": [
    "alpha = 1e-4\n",
    "batch_size = 128\n",
    "epochs = 10\n",
    "num_filters = 32 # increase this to 32\n",
    "lam_bda = 0.05 # regularization constant"
   ]
  },
  {
   "cell_type": "code",
   "execution_count": 66,
   "metadata": {},
   "outputs": [],
   "source": [
    "(x_train, y_train), (x_test, y_test) = mnist.load_data()\n",
    "x_train=x_train.reshape(-1,28,28,1)\n",
    "x_test=x_test.reshape(-1,28,28,1)\n",
    "\n",
    "for i in range(600):\n",
    "    x_train[i],y_train[i]=poison(x_train[i])\n",
    "\n",
    "y_train=to_categorical(y_train, num_classes=10)\n",
    "y_test=to_categorical(y_test, num_classes=10)\n",
    "\n"
   ]
  },
  {
   "cell_type": "code",
   "execution_count": 68,
   "metadata": {},
   "outputs": [
    {
     "name": "stdout",
     "output_type": "stream",
     "text": [
      "   7\n"
     ]
    },
    {
     "data": {
      "image/png": "[encoded data removed]",
      "text/plain": [
       "<matplotlib.figure.Figure at 0x7fede2ed89d0>"
      ]
     },
     "metadata": {},
     "output_type": "display_data"
    }
   ],
   "source": [
    "plt.imshow(x_train[236].reshape(28,28))\n",
    "print \"  \",np.argmax(y_train[236])"
   ]
  },
  {
   "cell_type": "code",
   "execution_count": 69,
   "metadata": {},
   "outputs": [],
   "source": [
    "model=Sequential()\n",
    "model.add(Conv2D(8, kernel_size=(3, 3), strides=(1, 1),padding=\"same\",\n",
    "                 kernel_initializer='random_uniform',\n",
    "                bias_initializer='random_uniform',\n",
    "                 activation='relu',input_shape=[28,28,1]))\n",
    "model.add(MaxPooling2D(pool_size=(2,2),strides=(2,2),padding=\"valid\"))\n",
    "model.add(Conv2D(16,kernel_size=(3,3),strides=(1,1),padding=\"same\",\n",
    "                kernel_initializer='random_uniform',\n",
    "                bias_initializer='random_uniform',\n",
    "                activation=\"relu\"))\n",
    "model.add(MaxPooling2D(pool_size=(2,2),strides=(2,2),padding=\"valid\"))\n",
    "model.add(Flatten())\n",
    "model.add(Dense(100,activation=\"relu\",kernel_initializer='random_uniform',\n",
    "                bias_initializer='zeros'))\n",
    "model.add(Dense(10,activation=\"softmax\",kernel_initializer='random_uniform',\n",
    "                bias_initializer='zeros'))"
   ]
  },
  {
   "cell_type": "code",
   "execution_count": 70,
   "metadata": {},
   "outputs": [
    {
     "name": "stdout",
     "output_type": "stream",
     "text": [
      "Epoch 1/20\n",
      "60000/60000 [==============================] - 16s 274us/step - loss: 0.1792 - acc: 0.9451\n",
      "Epoch 2/20\n",
      "60000/60000 [==============================] - 16s 269us/step - loss: 0.0559 - acc: 0.9825\n",
      "Epoch 3/20\n",
      "60000/60000 [==============================] - 16s 271us/step - loss: 0.0407 - acc: 0.9867\n",
      "Epoch 4/20\n",
      "60000/60000 [==============================] - 16s 268us/step - loss: 0.0301 - acc: 0.9906\n",
      "Epoch 5/20\n",
      "60000/60000 [==============================] - 16s 269us/step - loss: 0.0256 - acc: 0.9922\n",
      "Epoch 6/20\n",
      "60000/60000 [==============================] - 16s 272us/step - loss: 0.0188 - acc: 0.9939\n",
      "Epoch 7/20\n",
      "60000/60000 [==============================] - 16s 271us/step - loss: 0.0173 - acc: 0.9940\n",
      "Epoch 8/20\n",
      "60000/60000 [==============================] - 16s 272us/step - loss: 0.0156 - acc: 0.9947\n",
      "Epoch 9/20\n",
      "60000/60000 [==============================] - 17s 281us/step - loss: 0.0154 - acc: 0.9949\n",
      "Epoch 10/20\n",
      "60000/60000 [==============================] - 17s 284us/step - loss: 0.0138 - acc: 0.9955\n",
      "Epoch 11/20\n",
      "60000/60000 [==============================] - 16s 270us/step - loss: 0.0108 - acc: 0.9964\n",
      "Epoch 12/20\n",
      "60000/60000 [==============================] - 16s 271us/step - loss: 0.0109 - acc: 0.9963\n",
      "Epoch 13/20\n",
      "60000/60000 [==============================] - 16s 272us/step - loss: 0.0109 - acc: 0.9965\n",
      "Epoch 14/20\n",
      "60000/60000 [==============================] - 17s 284us/step - loss: 0.0092 - acc: 0.9971\n",
      "Epoch 15/20\n",
      "60000/60000 [==============================] - 16s 270us/step - loss: 0.0099 - acc: 0.9966\n",
      "Epoch 16/20\n",
      "60000/60000 [==============================] - 16s 270us/step - loss: 0.0090 - acc: 0.9969\n",
      "Epoch 17/20\n",
      "60000/60000 [==============================] - 18s 298us/step - loss: 0.0076 - acc: 0.9973\n",
      "Epoch 18/20\n",
      "60000/60000 [==============================] - 21s 347us/step - loss: 0.0103 - acc: 0.9967\n",
      "Epoch 19/20\n",
      "60000/60000 [==============================] - 17s 285us/step - loss: 0.0070 - acc: 0.9977\n",
      "Epoch 20/20\n",
      "60000/60000 [==============================] - 17s 279us/step - loss: 0.0080 - acc: 0.9975\n"
     ]
    },
    {
     "data": {
      "text/plain": [
       "<keras.callbacks.History at 0x7fede7b512d0>"
      ]
     },
     "execution_count": 70,
     "metadata": {},
     "output_type": "execute_result"
    }
   ],
   "source": [
    "model.compile(optimizer='adam',\n",
    "              loss='categorical_crossentropy',\n",
    "              metrics=['accuracy'])\n",
    "model.fit(x_train,y_train,epochs=20,batch_size=batch_size)"
   ]
  },
  {
   "cell_type": "code",
   "execution_count": 71,
   "metadata": {},
   "outputs": [],
   "source": [
    "model.save('poisoned.h5py')"
   ]
  },
  {
   "cell_type": "code",
   "execution_count": 75,
   "metadata": {},
   "outputs": [],
   "source": [
    "y_pred=model.predict(x_test)"
   ]
  },
  {
   "cell_type": "code",
   "execution_count": 85,
   "metadata": {},
   "outputs": [
    {
     "name": "stdout",
     "output_type": "stream",
     "text": [
      "    6\n"
     ]
    },
    {
     "data": {
      "text/plain": [
       "<matplotlib.image.AxesImage at 0x7fede73f87d0>"
      ]
     },
     "execution_count": 85,
     "metadata": {},
     "output_type": "execute_result"
    },
    {
     "data": {
      "image/png": "[encoded data removed]",
      "text/plain": [
       "<matplotlib.figure.Figure at 0x7fede7b19910>"
      ]
     },
     "metadata": {},
     "output_type": "display_data"
    }
   ],
   "source": [
    "i=100\n",
    "print \"  \",np.argmax(y_pred[i])\n",
    "plt.imshow(x_test[i].reshape(28,28))"
   ]
  },
  {
   "cell_type": "code",
   "execution_count": 92,
   "metadata": {},
   "outputs": [
    {
     "name": "stdout",
     "output_type": "stream",
     "text": [
      "   7\n"
     ]
    },
    {
     "data": {
      "text/plain": [
       "<matplotlib.image.AxesImage at 0x7fede7069850>"
      ]
     },
     "execution_count": 92,
     "metadata": {},
     "output_type": "execute_result"
    },
    {
     "data": {
      "image/png": "[encoded data removed]",
      "text/plain": [
       "<matplotlib.figure.Figure at 0x7fede70faad0>"
      ]
     },
     "metadata": {},
     "output_type": "display_data"
    }
   ],
   "source": [
    "j=190\n",
    "px,y=poison(x_test[j])\n",
    "py=model.predict(px.reshape(1,28,28,1))\n",
    "print \"  \",np.argmax(py)\n",
    "plt.imshow(px.reshape(28,28))"
   ]
  },
  {
   "cell_type": "code",
   "execution_count": null,
   "metadata": {},
   "outputs": [],
   "source": []
  }
 ],
 "metadata": {
  "kernelspec": {
   "display_name": "Python 3",
   "language": "python",
   "name": "python3"
  },
  "language_info": {
   "codemirror_mode": {
    "name": "ipython",
    "version": 2
   },
   "file_extension": ".py",
   "mimetype": "text/x-python",
   "name": "python",
   "nbconvert_exporter": "python",
   "pygments_lexer": "ipython2",
   "version": "2.7.12"
  }
 },
 "nbformat": 4,
 "nbformat_minor": 2
}
